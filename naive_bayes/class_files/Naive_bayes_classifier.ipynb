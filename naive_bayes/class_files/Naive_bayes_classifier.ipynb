{
  "nbformat": 4,
  "nbformat_minor": 0,
  "metadata": {
    "colab": {
      "name": "Naive_Bayes_Classifier.ipynb",
      "provenance": [],
      "collapsed_sections": []
    },
    "kernelspec": {
      "name": "python3",
      "display_name": "Python 3"
    },
    "language_info": {
      "name": "python"
    }
  },
  "cells": [
    {
      "cell_type": "markdown",
      "source": [
        "**NAIVE BAYES CLASSIFIER**"
      ],
      "metadata": {
        "id": "UgELIXkEgvFK"
      }
    },
    {
      "cell_type": "code",
      "metadata": {
        "id": "gBp-DCWQgvFK"
      },
      "source": [
        "# Step 1:\n",
        "#Load all the libraries\n",
        "import numpy as np  \n",
        "from sklearn.datasets import fetch_20newsgroups\n",
        "from sklearn.feature_extraction.text import TfidfVectorizer\n",
        "from sklearn.naive_bayes import MultinomialNB\n",
        "from sklearn.pipeline import make_pipeline\n",
        "from sklearn.metrics import confusion_matrix\n"
      ],
      "execution_count": 45,
      "outputs": []
    },
    {
      "cell_type": "code",
      "metadata": {
        "id": "x-BBkoOjgvFL"
      },
      "source": [
        "# Step 2:\n",
        "# Load the data\n",
        "data = fetch_20newsgroups()  # we set data to a variable named 'd'\n"
      ],
      "execution_count": 46,
      "outputs": []
    },
    {
      "cell_type": "code",
      "metadata": {
        "colab": {
          "base_uri": "https://localhost:8080/"
        },
        "outputId": "0fdf5f31-f824-493c-f0fb-c279ea6868f6",
        "id": "r8fRQTpGgvFL"
      },
      "source": [
        "data.target_names"
      ],
      "execution_count": 47,
      "outputs": [
        {
          "output_type": "execute_result",
          "data": {
            "text/plain": [
              "['alt.atheism',\n",
              " 'comp.graphics',\n",
              " 'comp.os.ms-windows.misc',\n",
              " 'comp.sys.ibm.pc.hardware',\n",
              " 'comp.sys.mac.hardware',\n",
              " 'comp.windows.x',\n",
              " 'misc.forsale',\n",
              " 'rec.autos',\n",
              " 'rec.motorcycles',\n",
              " 'rec.sport.baseball',\n",
              " 'rec.sport.hockey',\n",
              " 'sci.crypt',\n",
              " 'sci.electronics',\n",
              " 'sci.med',\n",
              " 'sci.space',\n",
              " 'soc.religion.christian',\n",
              " 'talk.politics.guns',\n",
              " 'talk.politics.mideast',\n",
              " 'talk.politics.misc',\n",
              " 'talk.religion.misc']"
            ]
          },
          "metadata": {},
          "execution_count": 47
        }
      ]
    },
    {
      "cell_type": "code",
      "metadata": {
        "id": "5BBb6tSAgvFM"
      },
      "source": [
        "\n",
        "''' The above are catagories they have already assigned to this news group, these are called fetch_20 because there are 20 different topicss\n",
        "or twenty different catagories here\n",
        " '''"
      ],
      "execution_count": null,
      "outputs": []
    },
    {
      "cell_type": "code",
      "source": [
        "# Now to define all the catagories and set up all the data.\n",
        "# First to define all the catagories\n",
        "categories = ['alt.atheism',  \n",
        " 'comp.graphics',\n",
        " 'comp.os.ms-windows.misc',\n",
        " 'comp.sys.ibm.pc.hardware',\n",
        " 'comp.sys.mac.hardware',\n",
        " 'comp.windows.x',\n",
        " 'misc.forsale',\n",
        " 'rec.autos',\n",
        " 'rec.motorcycles',\n",
        " 'rec.sport.baseball',\n",
        " 'rec.sport.hockey',\n",
        " 'sci.crypt',\n",
        " 'sci.electronics',\n",
        " 'sci.med',\n",
        " 'sci.space',\n",
        " 'soc.religion.christian',\n",
        " 'talk.politics.guns',\n",
        " 'talk.politics.mideast',\n",
        " 'talk.politics.misc',\n",
        " 'talk.religion.misc']"
      ],
      "metadata": {
        "id": "6wQTrtUGgvFM"
      },
      "execution_count": 48,
      "outputs": []
    },
    {
      "cell_type": "code",
      "source": [
        "# Step 3:\n",
        "# Clean the data. Data has been already cleaned"
      ],
      "metadata": {
        "id": "VGVJuNuGgvFO"
      },
      "execution_count": null,
      "outputs": []
    },
    {
      "cell_type": "code",
      "metadata": {
        "id": "5_eOiFkrgvFP"
      },
      "source": [
        "# Step 4:\n",
        "# Split the train and test data\n",
        "train = fetch_20newsgroups(subset = 'train',categories=categories)\n",
        "\n",
        "#Now to do the testing phase of the data\n",
        "test = fetch_20newsgroups(subset='test',categories=categories)"
      ],
      "execution_count": 49,
      "outputs": []
    },
    {
      "cell_type": "code",
      "metadata": {
        "colab": {
          "base_uri": "https://localhost:8080/"
        },
        "outputId": "8be7f501-c992-4d14-f159-3a28f9bebd6f",
        "id": "k3JreGu8gvFP"
      },
      "source": [
        "\n",
        "print(len(train.data)) # It shows total no. of articles in train data which are 11314\n",
        "print(len(test.data))   # It shows total no. of articles in test data which are 7532"
      ],
      "execution_count": 50,
      "outputs": [
        {
          "output_type": "stream",
          "name": "stdout",
          "text": [
            "11314\n",
            "7532\n"
          ]
        }
      ]
    },
    {
      "cell_type": "code",
      "metadata": {
        "id": "aUF9muy1gvFP"
      },
      "source": [
        "# Step 5:\n",
        "# Create the model\n",
        "model = make_pipeline(TfidfVectorizer(),MultinomialNB())\n"
      ],
      "execution_count": 51,
      "outputs": []
    },
    {
      "cell_type": "code",
      "source": [
        "# Step 6\n",
        "# Train the model\n",
        "model.fit(train.data, train.target)\n"
      ],
      "metadata": {
        "colab": {
          "base_uri": "https://localhost:8080/"
        },
        "outputId": "a758332d-c526-4a41-9cc8-2100c725ee20",
        "id": "QQUg_HOugvFQ"
      },
      "execution_count": 52,
      "outputs": [
        {
          "output_type": "execute_result",
          "data": {
            "text/plain": [
              "Pipeline(steps=[('tfidfvectorizer', TfidfVectorizer()),\n",
              "                ('multinomialnb', MultinomialNB())])"
            ]
          },
          "metadata": {},
          "execution_count": 52
        }
      ]
    },
    {
      "cell_type": "code",
      "source": [
        "# Step 7\n",
        "# Prediction of the model\n",
        "prediction = model.predict(test.data)\n",
        "prediction"
      ],
      "metadata": {
        "id": "ci2ntfRQgvFQ",
        "colab": {
          "base_uri": "https://localhost:8080/"
        },
        "outputId": "ef16933b-e53f-4e8c-b0a1-73e47ee74772"
      },
      "execution_count": 53,
      "outputs": [
        {
          "output_type": "execute_result",
          "data": {
            "text/plain": [
              "array([ 7, 11,  0, ...,  9,  3, 15])"
            ]
          },
          "metadata": {},
          "execution_count": 53
        }
      ]
    },
    {
      "cell_type": "code",
      "metadata": {
        "id": "l5ZAfBOKgvFR"
      },
      "source": [
        "\n",
        "# Now to use that model and predicting category on new data based on trained model\n",
        "def predict_category(s, train=train,model=model):\n",
        "  prediction = model.predict([s])\n",
        "  return train.target_names[prediction[0]]\n"
      ],
      "execution_count": 54,
      "outputs": []
    },
    {
      "cell_type": "code",
      "metadata": {
        "colab": {
          "base_uri": "https://localhost:8080/",
          "height": 35
        },
        "outputId": "7047a101-df28-465d-c66a-1bb648bbdfbc",
        "id": "32pvXOgIgvFR"
      },
      "source": [
        "# Now to do some predictions\n",
        "predict_category('Jesus Christ')\n"
      ],
      "execution_count": 55,
      "outputs": [
        {
          "output_type": "execute_result",
          "data": {
            "application/vnd.google.colaboratory.intrinsic+json": {
              "type": "string"
            },
            "text/plain": [
              "'soc.religion.christian'"
            ]
          },
          "metadata": {},
          "execution_count": 55
        }
      ]
    },
    {
      "cell_type": "code",
      "metadata": {
        "colab": {
          "base_uri": "https://localhost:8080/",
          "height": 35
        },
        "outputId": "982b7c80-a2b0-499a-c529-a6c640e17674",
        "id": "sz9ojD5HgvFR"
      },
      "source": [
        "predict_category('International space station')"
      ],
      "execution_count": 56,
      "outputs": [
        {
          "output_type": "execute_result",
          "data": {
            "application/vnd.google.colaboratory.intrinsic+json": {
              "type": "string"
            },
            "text/plain": [
              "'sci.space'"
            ]
          },
          "metadata": {},
          "execution_count": 56
        }
      ]
    },
    {
      "cell_type": "code",
      "metadata": {
        "colab": {
          "base_uri": "https://localhost:8080/",
          "height": 35
        },
        "outputId": "fb55aa5f-c102-440e-bdb0-98ddc2dcd735",
        "id": "7fM9IqUUgvFS"
      },
      "source": [
        "predict_category('lamborghini is better than ferrari') #rec mean recreational"
      ],
      "execution_count": 57,
      "outputs": [
        {
          "output_type": "execute_result",
          "data": {
            "application/vnd.google.colaboratory.intrinsic+json": {
              "type": "string"
            },
            "text/plain": [
              "'rec.autos'"
            ]
          },
          "metadata": {},
          "execution_count": 57
        }
      ]
    },
    {
      "cell_type": "code",
      "metadata": {
        "colab": {
          "base_uri": "https://localhost:8080/",
          "height": 35
        },
        "outputId": "cbb3a53d-7e56-45da-c2f6-4b80c146c683",
        "id": "9kN730CdgvFS"
      },
      "source": [
        "# Now if we put something like a caption\n",
        "predict_category('President of America')  #it returns talk.politics miscellaneous"
      ],
      "execution_count": 58,
      "outputs": [
        {
          "output_type": "execute_result",
          "data": {
            "application/vnd.google.colaboratory.intrinsic+json": {
              "type": "string"
            },
            "text/plain": [
              "'talk.politics.misc'"
            ]
          },
          "metadata": {},
          "execution_count": 58
        }
      ]
    }
  ]
}