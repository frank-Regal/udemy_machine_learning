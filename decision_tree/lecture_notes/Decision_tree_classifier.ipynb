{
  "nbformat": 4,
  "nbformat_minor": 0,
  "metadata": {
    "colab": {
      "name": "Decision_tree_classifier.ipynb",
      "provenance": [],
      "collapsed_sections": []
    },
    "kernelspec": {
      "name": "python3",
      "display_name": "Python 3"
    },
    "language_info": {
      "name": "python"
    }
  },
  "cells": [
    {
      "cell_type": "code",
      "execution_count": 2,
      "metadata": {
        "id": "waDt_jBSkb01"
      },
      "outputs": [],
      "source": [
        "# Step 1:\n",
        "# Import all the libraries\n",
        "import pandas as pd\n",
        "from sklearn.tree import DecisionTreeClassifier\n",
        "from sklearn.model_selection import train_test_split\n",
        "from sklearn.metrics import accuracy_score"
      ]
    },
    {
      "cell_type": "code",
      "source": [
        "# Step 2:\n",
        "# Load and read the data\n",
        "d = pd.read_csv('Books.csv')  #Read csv file"
      ],
      "metadata": {
        "id": "mkhPY76EkhMS"
      },
      "execution_count": 3,
      "outputs": []
    },
    {
      "cell_type": "code",
      "source": [
        "# Explore the data\n",
        "print(d)"
      ],
      "metadata": {
        "colab": {
          "base_uri": "https://localhost:8080/"
        },
        "id": "aLP18htHkjk8",
        "outputId": "1bf08533-b455-4994-bc8f-b7315ac6ad5f"
      },
      "execution_count": 4,
      "outputs": [
        {
          "output_type": "stream",
          "name": "stdout",
          "text": [
            "    age  gender       Books\n",
            "0    18       1    Business\n",
            "1    19       1  Love story\n",
            "2    20       1  Love story\n",
            "3    27       1    Business\n",
            "4    29       1    Business\n",
            "5    31       1    Business\n",
            "6    36       1    Politics\n",
            "7    38       1    Politics\n",
            "8    50       1    Politics\n",
            "9    17       0     History\n",
            "10   19       0     History\n",
            "11   21       0     History\n",
            "12   26       0   Geography\n",
            "13   27       0   Geography\n",
            "14   30       0   Geography\n",
            "15   37       0    Politics\n",
            "16   38       0    Politics\n",
            "17   45       0    Politics\n"
          ]
        }
      ]
    },
    {
      "cell_type": "code",
      "source": [
        "# Determine the inputs of the data\n",
        "x = d.drop(columns=['Books'])\n",
        "print(x)"
      ],
      "metadata": {
        "colab": {
          "base_uri": "https://localhost:8080/"
        },
        "id": "p6cE9sWXklPE",
        "outputId": "4c47a942-960b-498f-cee3-4b21b9f87947"
      },
      "execution_count": 5,
      "outputs": [
        {
          "output_type": "stream",
          "name": "stdout",
          "text": [
            "    age  gender\n",
            "0    18       1\n",
            "1    19       1\n",
            "2    20       1\n",
            "3    27       1\n",
            "4    29       1\n",
            "5    31       1\n",
            "6    36       1\n",
            "7    38       1\n",
            "8    50       1\n",
            "9    17       0\n",
            "10   19       0\n",
            "11   21       0\n",
            "12   26       0\n",
            "13   27       0\n",
            "14   30       0\n",
            "15   37       0\n",
            "16   38       0\n",
            "17   45       0\n"
          ]
        }
      ]
    },
    {
      "cell_type": "code",
      "source": [
        "# Determine the outputs of the data\n",
        "y = d['Books']\n",
        "print(y)"
      ],
      "metadata": {
        "colab": {
          "base_uri": "https://localhost:8080/"
        },
        "id": "zvem1adcknHa",
        "outputId": "eb2f9287-195b-4d48-b789-91fb9601f9e0"
      },
      "execution_count": 6,
      "outputs": [
        {
          "output_type": "stream",
          "name": "stdout",
          "text": [
            "0       Business\n",
            "1     Love story\n",
            "2     Love story\n",
            "3       Business\n",
            "4       Business\n",
            "5       Business\n",
            "6       Politics\n",
            "7       Politics\n",
            "8       Politics\n",
            "9        History\n",
            "10       History\n",
            "11       History\n",
            "12     Geography\n",
            "13     Geography\n",
            "14     Geography\n",
            "15      Politics\n",
            "16      Politics\n",
            "17      Politics\n",
            "Name: Books, dtype: object\n"
          ]
        }
      ]
    },
    {
      "cell_type": "code",
      "source": [
        "# Step 3:\n",
        "# Clean the data: Data is already clean"
      ],
      "metadata": {
        "id": "3VCZP8JEkoya"
      },
      "execution_count": null,
      "outputs": []
    },
    {
      "cell_type": "code",
      "source": [
        "# Step 4:\n",
        "# Split the data in train and test sets\n",
        "x_train,x_test,y_train,y_test = train_test_split(x,y,test_size=0.2)"
      ],
      "metadata": {
        "id": "h2LzE8y-kqqK"
      },
      "execution_count": 7,
      "outputs": []
    },
    {
      "cell_type": "code",
      "source": [
        "# Step 5:\n",
        "# Create the Decision Tree machine model\n",
        "model = DecisionTreeClassifier()"
      ],
      "metadata": {
        "id": "CCaE6enrks81"
      },
      "execution_count": 8,
      "outputs": []
    },
    {
      "cell_type": "code",
      "source": [
        "# Step 6:\n",
        "# Train the model\n",
        "model.fit(x_train,y_train)"
      ],
      "metadata": {
        "colab": {
          "base_uri": "https://localhost:8080/"
        },
        "id": "3FfXLkXskvCE",
        "outputId": "ee0f560c-d601-4d3b-a946-b827688402ec"
      },
      "execution_count": 9,
      "outputs": [
        {
          "output_type": "execute_result",
          "data": {
            "text/plain": [
              "DecisionTreeClassifier()"
            ]
          },
          "metadata": {},
          "execution_count": 9
        }
      ]
    },
    {
      "cell_type": "code",
      "source": [
        "# Step 7:\n",
        "# Prediction of the machine model\n",
        "prediction = model.predict(x_test)"
      ],
      "metadata": {
        "id": "pz6O1q93kwrL"
      },
      "execution_count": 10,
      "outputs": []
    },
    {
      "cell_type": "code",
      "source": [
        "# Step 8:\n",
        "# Final evaluation of the machine model\n",
        "score = accuracy_score(y_test,prediction)\n",
        "print(score)"
      ],
      "metadata": {
        "colab": {
          "base_uri": "https://localhost:8080/"
        },
        "id": "9afzhVGvkyhF",
        "outputId": "0967256e-e0d5-45bd-e2d5-d7c111101fa5"
      },
      "execution_count": 11,
      "outputs": [
        {
          "output_type": "stream",
          "name": "stdout",
          "text": [
            "1.0\n"
          ]
        }
      ]
    },
    {
      "cell_type": "code",
      "source": [
        "# Now to check the final outputs of the model\n",
        "model.fit(x,y) \n",
        "prediction = model.predict([[25,1],[20,0]])\n",
        "print(prediction)"
      ],
      "metadata": {
        "colab": {
          "base_uri": "https://localhost:8080/"
        },
        "id": "VTEzk9uDlCk8",
        "outputId": "36146a90-7c1e-44eb-fe63-f0202026aea9"
      },
      "execution_count": 14,
      "outputs": [
        {
          "output_type": "stream",
          "name": "stdout",
          "text": [
            "['Business' 'History']\n"
          ]
        },
        {
          "output_type": "stream",
          "name": "stderr",
          "text": [
            "/usr/local/lib/python3.7/dist-packages/sklearn/base.py:451: UserWarning: X does not have valid feature names, but DecisionTreeClassifier was fitted with feature names\n",
            "  \"X does not have valid feature names, but\"\n"
          ]
        }
      ]
    },
    {
      "cell_type": "code",
      "source": [
        "######################################################################################################################################"
      ],
      "metadata": {
        "id": "0fKwcpRHl96e"
      },
      "execution_count": null,
      "outputs": []
    },
    {
      "cell_type": "markdown",
      "source": [
        "**Change the test size to 80% and check the result**"
      ],
      "metadata": {
        "id": "r-Qn-Rf9mW_d"
      }
    },
    {
      "cell_type": "code",
      "execution_count": 15,
      "metadata": {
        "id": "SlsiScGhl-nr"
      },
      "outputs": [],
      "source": [
        "# Step 1:\n",
        "# Import all the libraries\n",
        "import pandas as pd\n",
        "from sklearn.tree import DecisionTreeClassifier\n",
        "from sklearn.model_selection import train_test_split\n",
        "from sklearn.metrics import accuracy_score"
      ]
    },
    {
      "cell_type": "code",
      "source": [
        "# Step 2:\n",
        "# Load and read the data\n",
        "d = pd.read_csv('Books.csv')  #Read csv file"
      ],
      "metadata": {
        "id": "vn8HsooAl-nu"
      },
      "execution_count": 16,
      "outputs": []
    },
    {
      "cell_type": "code",
      "source": [
        "# Explore the data\n",
        "print(d)"
      ],
      "metadata": {
        "colab": {
          "base_uri": "https://localhost:8080/"
        },
        "outputId": "8453d816-412a-4d70-ce83-68bc6a871b6c",
        "id": "ZfUquFAql-nw"
      },
      "execution_count": 17,
      "outputs": [
        {
          "output_type": "stream",
          "name": "stdout",
          "text": [
            "    age  gender       Books\n",
            "0    18       1    Business\n",
            "1    19       1  Love story\n",
            "2    20       1  Love story\n",
            "3    27       1    Business\n",
            "4    29       1    Business\n",
            "5    31       1    Business\n",
            "6    36       1    Politics\n",
            "7    38       1    Politics\n",
            "8    50       1    Politics\n",
            "9    17       0     History\n",
            "10   19       0     History\n",
            "11   21       0     History\n",
            "12   26       0   Geography\n",
            "13   27       0   Geography\n",
            "14   30       0   Geography\n",
            "15   37       0    Politics\n",
            "16   38       0    Politics\n",
            "17   45       0    Politics\n"
          ]
        }
      ]
    },
    {
      "cell_type": "code",
      "source": [
        "# Determine the inputs of the data\n",
        "x = d.drop(columns=['Books'])\n",
        "print(x)"
      ],
      "metadata": {
        "colab": {
          "base_uri": "https://localhost:8080/"
        },
        "outputId": "139aa622-d1cd-4f99-d872-944bf8405026",
        "id": "EWg7_VBGl-nz"
      },
      "execution_count": 18,
      "outputs": [
        {
          "output_type": "stream",
          "name": "stdout",
          "text": [
            "    age  gender\n",
            "0    18       1\n",
            "1    19       1\n",
            "2    20       1\n",
            "3    27       1\n",
            "4    29       1\n",
            "5    31       1\n",
            "6    36       1\n",
            "7    38       1\n",
            "8    50       1\n",
            "9    17       0\n",
            "10   19       0\n",
            "11   21       0\n",
            "12   26       0\n",
            "13   27       0\n",
            "14   30       0\n",
            "15   37       0\n",
            "16   38       0\n",
            "17   45       0\n"
          ]
        }
      ]
    },
    {
      "cell_type": "code",
      "source": [
        "# Determine the outputs of the data\n",
        "y = d['Books']\n",
        "print(y)"
      ],
      "metadata": {
        "colab": {
          "base_uri": "https://localhost:8080/"
        },
        "outputId": "10e0fe21-3e9a-414c-96a7-dae1e85a6f26",
        "id": "sPDYuA60l-n1"
      },
      "execution_count": 19,
      "outputs": [
        {
          "output_type": "stream",
          "name": "stdout",
          "text": [
            "0       Business\n",
            "1     Love story\n",
            "2     Love story\n",
            "3       Business\n",
            "4       Business\n",
            "5       Business\n",
            "6       Politics\n",
            "7       Politics\n",
            "8       Politics\n",
            "9        History\n",
            "10       History\n",
            "11       History\n",
            "12     Geography\n",
            "13     Geography\n",
            "14     Geography\n",
            "15      Politics\n",
            "16      Politics\n",
            "17      Politics\n",
            "Name: Books, dtype: object\n"
          ]
        }
      ]
    },
    {
      "cell_type": "code",
      "source": [
        "# Step 3:\n",
        "# Clean the data: Data is already clean"
      ],
      "metadata": {
        "id": "sjWn1oCWl-n2"
      },
      "execution_count": null,
      "outputs": []
    },
    {
      "cell_type": "code",
      "source": [
        "# Step 4:\n",
        "# Split the data in train and test sets\n",
        "x_train,x_test,y_train,y_test = train_test_split(x,y,test_size=0.8)  #NOW TEST SIZE IS 80% AND TRAINING SIZE IS JUST 20%"
      ],
      "metadata": {
        "id": "kgdy84fjl-n3"
      },
      "execution_count": 20,
      "outputs": []
    },
    {
      "cell_type": "code",
      "source": [
        "# Step 5:\n",
        "# Create the Decision Tree machine model\n",
        "model = DecisionTreeClassifier()"
      ],
      "metadata": {
        "id": "Y978tFdNl-n5"
      },
      "execution_count": 21,
      "outputs": []
    },
    {
      "cell_type": "code",
      "source": [
        "# Step 6:\n",
        "# Train the model\n",
        "model.fit(x_train,y_train)"
      ],
      "metadata": {
        "colab": {
          "base_uri": "https://localhost:8080/"
        },
        "outputId": "aae1dbec-cba6-4a41-aa6d-31b0b0b1f3be",
        "id": "tWLXS2U9l-n7"
      },
      "execution_count": 22,
      "outputs": [
        {
          "output_type": "execute_result",
          "data": {
            "text/plain": [
              "DecisionTreeClassifier()"
            ]
          },
          "metadata": {},
          "execution_count": 22
        }
      ]
    },
    {
      "cell_type": "code",
      "source": [
        "# Step 7:\n",
        "# Prediction of the machine model\n",
        "prediction = model.predict(x_test)"
      ],
      "metadata": {
        "id": "ZFSYI-tIl-n9"
      },
      "execution_count": 23,
      "outputs": []
    },
    {
      "cell_type": "code",
      "source": [
        "# Step 8:\n",
        "# Final evaluation of the machine model\n",
        "score = accuracy_score(y_test,prediction)\n",
        "print(score)"
      ],
      "metadata": {
        "colab": {
          "base_uri": "https://localhost:8080/"
        },
        "outputId": "97ba90f9-4da3-4b91-e6b6-7c15bfbf94e4",
        "id": "DLTV7rtRl-n_"
      },
      "execution_count": 27,
      "outputs": [
        {
          "output_type": "stream",
          "name": "stdout",
          "text": [
            "0.26666666666666666\n"
          ]
        }
      ]
    }
  ]
}